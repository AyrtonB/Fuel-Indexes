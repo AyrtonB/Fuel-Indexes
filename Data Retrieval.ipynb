{
 "cells": [
  {
   "cell_type": "markdown",
   "metadata": {},
   "source": [
    "# Data Retrieval\n",
    "\n",
    "<br>\n",
    "\n",
    "### Imports"
   ]
  },
  {
   "cell_type": "code",
   "execution_count": 1,
   "metadata": {},
   "outputs": [],
   "source": [
    "import pandas as pd\n",
    "import numpy as np\n",
    "\n",
    "import seaborn as sns\n",
    "import matplotlib.pyplot as plt\n",
    "\n",
    "import io\n",
    "import requests\n",
    "\n",
    "from IPython.display import HTML"
   ]
  },
  {
   "cell_type": "markdown",
   "metadata": {},
   "source": [
    "<br>\n",
    "\n",
    "### Foreign Exchange & GDP\n",
    "\n",
    "US/EU"
   ]
  },
  {
   "cell_type": "code",
   "execution_count": 3,
   "metadata": {},
   "outputs": [
    {
     "data": {
      "text/html": [
       "<div>\n",
       "<style scoped>\n",
       "    .dataframe tbody tr th:only-of-type {\n",
       "        vertical-align: middle;\n",
       "    }\n",
       "\n",
       "    .dataframe tbody tr th {\n",
       "        vertical-align: top;\n",
       "    }\n",
       "\n",
       "    .dataframe thead th {\n",
       "        text-align: right;\n",
       "    }\n",
       "</style>\n",
       "<table border=\"1\" class=\"dataframe\">\n",
       "  <thead>\n",
       "    <tr style=\"text-align: right;\">\n",
       "      <th></th>\n",
       "      <th>DATE</th>\n",
       "      <th>EXUSEU</th>\n",
       "    </tr>\n",
       "  </thead>\n",
       "  <tbody>\n",
       "    <tr>\n",
       "      <th>256</th>\n",
       "      <td>2020-05-01</td>\n",
       "      <td>1.0907</td>\n",
       "    </tr>\n",
       "    <tr>\n",
       "      <th>255</th>\n",
       "      <td>2020-04-01</td>\n",
       "      <td>1.0871</td>\n",
       "    </tr>\n",
       "    <tr>\n",
       "      <th>254</th>\n",
       "      <td>2020-03-01</td>\n",
       "      <td>1.1046</td>\n",
       "    </tr>\n",
       "    <tr>\n",
       "      <th>253</th>\n",
       "      <td>2020-02-01</td>\n",
       "      <td>1.0911</td>\n",
       "    </tr>\n",
       "    <tr>\n",
       "      <th>252</th>\n",
       "      <td>2020-01-01</td>\n",
       "      <td>1.1098</td>\n",
       "    </tr>\n",
       "  </tbody>\n",
       "</table>\n",
       "</div>"
      ],
      "text/plain": [
       "           DATE  EXUSEU\n",
       "256  2020-05-01  1.0907\n",
       "255  2020-04-01  1.0871\n",
       "254  2020-03-01  1.1046\n",
       "253  2020-02-01  1.0911\n",
       "252  2020-01-01  1.1098"
      ]
     },
     "execution_count": 3,
     "metadata": {},
     "output_type": "execute_result"
    }
   ],
   "source": [
    "def query_FX(currency_from:str, currency_to:str, end_date:str, start_date='1999-01-01'):\n",
    "    stream = f'EX{currency_from}{currency_to}'\n",
    "    \n",
    "    stlouisfed_url = 'https://fred.stlouisfed.org/graph/fredgraph.csv'\n",
    "\n",
    "    params = {\n",
    "        'id': stream,\n",
    "        'cosd': start_date,\n",
    "        'coed': end_date,\n",
    "    }\n",
    "\n",
    "    headers = {\n",
    "        'user-agent' : 'Mozilla/5.0 (Windows NT 10.0; Win64; x64) AppleWebKit/537.36 (KHTML, like Gecko) Chrome/81.0.4044.138 Safari/537.36',\n",
    "    }\n",
    "\n",
    "    r = requests.get(stlouisfed_url, params=params, headers=headers)\n",
    "\n",
    "    df = pd.read_csv(io.StringIO(r.content.decode('utf-8'))).sort_values('DATE', ascending=False)\n",
    "\n",
    "    return df\n",
    "\n",
    "end_date = '2020-06-25'\n",
    "currency_from = 'US'\n",
    "currency_to = 'EU'\n",
    "\n",
    "df = query_FX(currency_from, currency_to, end_date)\n",
    "\n",
    "df.head()"
   ]
  },
  {
   "cell_type": "markdown",
   "metadata": {},
   "source": [
    "<br>\n",
    "\n",
    "US/UK"
   ]
  },
  {
   "cell_type": "code",
   "execution_count": 4,
   "metadata": {},
   "outputs": [
    {
     "data": {
      "text/html": [
       "<div>\n",
       "<style scoped>\n",
       "    .dataframe tbody tr th:only-of-type {\n",
       "        vertical-align: middle;\n",
       "    }\n",
       "\n",
       "    .dataframe tbody tr th {\n",
       "        vertical-align: top;\n",
       "    }\n",
       "\n",
       "    .dataframe thead th {\n",
       "        text-align: right;\n",
       "    }\n",
       "</style>\n",
       "<table border=\"1\" class=\"dataframe\">\n",
       "  <thead>\n",
       "    <tr style=\"text-align: right;\">\n",
       "      <th></th>\n",
       "      <th>DATE</th>\n",
       "      <th>EXUSUK</th>\n",
       "    </tr>\n",
       "  </thead>\n",
       "  <tbody>\n",
       "    <tr>\n",
       "      <th>256</th>\n",
       "      <td>2020-05-01</td>\n",
       "      <td>1.2302</td>\n",
       "    </tr>\n",
       "    <tr>\n",
       "      <th>255</th>\n",
       "      <td>2020-04-01</td>\n",
       "      <td>1.2420</td>\n",
       "    </tr>\n",
       "    <tr>\n",
       "      <th>254</th>\n",
       "      <td>2020-03-01</td>\n",
       "      <td>1.2369</td>\n",
       "    </tr>\n",
       "    <tr>\n",
       "      <th>253</th>\n",
       "      <td>2020-02-01</td>\n",
       "      <td>1.2953</td>\n",
       "    </tr>\n",
       "    <tr>\n",
       "      <th>252</th>\n",
       "      <td>2020-01-01</td>\n",
       "      <td>1.3076</td>\n",
       "    </tr>\n",
       "  </tbody>\n",
       "</table>\n",
       "</div>"
      ],
      "text/plain": [
       "           DATE  EXUSUK\n",
       "256  2020-05-01  1.2302\n",
       "255  2020-04-01  1.2420\n",
       "254  2020-03-01  1.2369\n",
       "253  2020-02-01  1.2953\n",
       "252  2020-01-01  1.3076"
      ]
     },
     "execution_count": 4,
     "metadata": {},
     "output_type": "execute_result"
    }
   ],
   "source": [
    "currency_from = 'US'\n",
    "currency_to = 'UK'\n",
    "\n",
    "df = query_FX(currency_from, currency_to, end_date)\n",
    "\n",
    "df.head()"
   ]
  },
  {
   "cell_type": "markdown",
   "metadata": {},
   "source": [
    "<br>\n",
    "\n",
    "CA/US"
   ]
  },
  {
   "cell_type": "code",
   "execution_count": 5,
   "metadata": {},
   "outputs": [
    {
     "data": {
      "text/html": [
       "<div>\n",
       "<style scoped>\n",
       "    .dataframe tbody tr th:only-of-type {\n",
       "        vertical-align: middle;\n",
       "    }\n",
       "\n",
       "    .dataframe tbody tr th {\n",
       "        vertical-align: top;\n",
       "    }\n",
       "\n",
       "    .dataframe thead th {\n",
       "        text-align: right;\n",
       "    }\n",
       "</style>\n",
       "<table border=\"1\" class=\"dataframe\">\n",
       "  <thead>\n",
       "    <tr style=\"text-align: right;\">\n",
       "      <th></th>\n",
       "      <th>DATE</th>\n",
       "      <th>EXCAUS</th>\n",
       "    </tr>\n",
       "  </thead>\n",
       "  <tbody>\n",
       "    <tr>\n",
       "      <th>256</th>\n",
       "      <td>2020-05-01</td>\n",
       "      <td>1.3972</td>\n",
       "    </tr>\n",
       "    <tr>\n",
       "      <th>255</th>\n",
       "      <td>2020-04-01</td>\n",
       "      <td>1.4048</td>\n",
       "    </tr>\n",
       "    <tr>\n",
       "      <th>254</th>\n",
       "      <td>2020-03-01</td>\n",
       "      <td>1.3960</td>\n",
       "    </tr>\n",
       "    <tr>\n",
       "      <th>253</th>\n",
       "      <td>2020-02-01</td>\n",
       "      <td>1.3286</td>\n",
       "    </tr>\n",
       "    <tr>\n",
       "      <th>252</th>\n",
       "      <td>2020-01-01</td>\n",
       "      <td>1.3089</td>\n",
       "    </tr>\n",
       "  </tbody>\n",
       "</table>\n",
       "</div>"
      ],
      "text/plain": [
       "           DATE  EXCAUS\n",
       "256  2020-05-01  1.3972\n",
       "255  2020-04-01  1.4048\n",
       "254  2020-03-01  1.3960\n",
       "253  2020-02-01  1.3286\n",
       "252  2020-01-01  1.3089"
      ]
     },
     "execution_count": 5,
     "metadata": {},
     "output_type": "execute_result"
    }
   ],
   "source": [
    "currency_from = 'CA'\n",
    "currency_to = 'US'\n",
    "\n",
    "df = query_FX(currency_from, currency_to, end_date)\n",
    "\n",
    "df.head()"
   ]
  },
  {
   "cell_type": "markdown",
   "metadata": {},
   "source": [
    "<br>\n",
    "\n",
    "US/AL"
   ]
  },
  {
   "cell_type": "code",
   "execution_count": 6,
   "metadata": {},
   "outputs": [
    {
     "data": {
      "text/html": [
       "<div>\n",
       "<style scoped>\n",
       "    .dataframe tbody tr th:only-of-type {\n",
       "        vertical-align: middle;\n",
       "    }\n",
       "\n",
       "    .dataframe tbody tr th {\n",
       "        vertical-align: top;\n",
       "    }\n",
       "\n",
       "    .dataframe thead th {\n",
       "        text-align: right;\n",
       "    }\n",
       "</style>\n",
       "<table border=\"1\" class=\"dataframe\">\n",
       "  <thead>\n",
       "    <tr style=\"text-align: right;\">\n",
       "      <th></th>\n",
       "      <th>DATE</th>\n",
       "      <th>EXUSAL</th>\n",
       "    </tr>\n",
       "  </thead>\n",
       "  <tbody>\n",
       "    <tr>\n",
       "      <th>256</th>\n",
       "      <td>2020-05-01</td>\n",
       "      <td>0.6517</td>\n",
       "    </tr>\n",
       "    <tr>\n",
       "      <th>255</th>\n",
       "      <td>2020-04-01</td>\n",
       "      <td>0.6312</td>\n",
       "    </tr>\n",
       "    <tr>\n",
       "      <th>254</th>\n",
       "      <td>2020-03-01</td>\n",
       "      <td>0.6218</td>\n",
       "    </tr>\n",
       "    <tr>\n",
       "      <th>253</th>\n",
       "      <td>2020-02-01</td>\n",
       "      <td>0.6664</td>\n",
       "    </tr>\n",
       "    <tr>\n",
       "      <th>252</th>\n",
       "      <td>2020-01-01</td>\n",
       "      <td>0.6851</td>\n",
       "    </tr>\n",
       "  </tbody>\n",
       "</table>\n",
       "</div>"
      ],
      "text/plain": [
       "           DATE  EXUSAL\n",
       "256  2020-05-01  0.6517\n",
       "255  2020-04-01  0.6312\n",
       "254  2020-03-01  0.6218\n",
       "253  2020-02-01  0.6664\n",
       "252  2020-01-01  0.6851"
      ]
     },
     "execution_count": 6,
     "metadata": {},
     "output_type": "execute_result"
    }
   ],
   "source": [
    "currency_from = 'US'\n",
    "currency_to = 'AL'\n",
    "\n",
    "df = query_FX(currency_from, currency_to, end_date)\n",
    "\n",
    "df.head()"
   ]
  },
  {
   "cell_type": "markdown",
   "metadata": {},
   "source": [
    "<br>\n",
    "\n",
    "US GDP"
   ]
  },
  {
   "cell_type": "code",
   "execution_count": 7,
   "metadata": {},
   "outputs": [
    {
     "data": {
      "text/html": [
       "<div>\n",
       "<style scoped>\n",
       "    .dataframe tbody tr th:only-of-type {\n",
       "        vertical-align: middle;\n",
       "    }\n",
       "\n",
       "    .dataframe tbody tr th {\n",
       "        vertical-align: top;\n",
       "    }\n",
       "\n",
       "    .dataframe thead th {\n",
       "        text-align: right;\n",
       "    }\n",
       "</style>\n",
       "<table border=\"1\" class=\"dataframe\">\n",
       "  <thead>\n",
       "    <tr style=\"text-align: right;\">\n",
       "      <th></th>\n",
       "      <th>DATE</th>\n",
       "      <th>GDPDEF</th>\n",
       "    </tr>\n",
       "  </thead>\n",
       "  <tbody>\n",
       "    <tr>\n",
       "      <th>84</th>\n",
       "      <td>2020-01-01</td>\n",
       "      <td>113.493</td>\n",
       "    </tr>\n",
       "    <tr>\n",
       "      <th>83</th>\n",
       "      <td>2019-10-01</td>\n",
       "      <td>113.043</td>\n",
       "    </tr>\n",
       "    <tr>\n",
       "      <th>82</th>\n",
       "      <td>2019-07-01</td>\n",
       "      <td>112.664</td>\n",
       "    </tr>\n",
       "    <tr>\n",
       "      <th>81</th>\n",
       "      <td>2019-04-01</td>\n",
       "      <td>112.188</td>\n",
       "    </tr>\n",
       "    <tr>\n",
       "      <th>80</th>\n",
       "      <td>2019-01-01</td>\n",
       "      <td>111.473</td>\n",
       "    </tr>\n",
       "    <tr>\n",
       "      <th>...</th>\n",
       "      <td>...</td>\n",
       "      <td>...</td>\n",
       "    </tr>\n",
       "    <tr>\n",
       "      <th>4</th>\n",
       "      <td>2000-01-01</td>\n",
       "      <td>77.396</td>\n",
       "    </tr>\n",
       "    <tr>\n",
       "      <th>3</th>\n",
       "      <td>1999-10-01</td>\n",
       "      <td>76.873</td>\n",
       "    </tr>\n",
       "    <tr>\n",
       "      <th>2</th>\n",
       "      <td>1999-07-01</td>\n",
       "      <td>76.462</td>\n",
       "    </tr>\n",
       "    <tr>\n",
       "      <th>1</th>\n",
       "      <td>1999-04-01</td>\n",
       "      <td>76.201</td>\n",
       "    </tr>\n",
       "    <tr>\n",
       "      <th>0</th>\n",
       "      <td>1999-01-01</td>\n",
       "      <td>75.926</td>\n",
       "    </tr>\n",
       "  </tbody>\n",
       "</table>\n",
       "<p>85 rows × 2 columns</p>\n",
       "</div>"
      ],
      "text/plain": [
       "          DATE   GDPDEF\n",
       "84  2020-01-01  113.493\n",
       "83  2019-10-01  113.043\n",
       "82  2019-07-01  112.664\n",
       "81  2019-04-01  112.188\n",
       "80  2019-01-01  111.473\n",
       "..         ...      ...\n",
       "4   2000-01-01   77.396\n",
       "3   1999-10-01   76.873\n",
       "2   1999-07-01   76.462\n",
       "1   1999-04-01   76.201\n",
       "0   1999-01-01   75.926\n",
       "\n",
       "[85 rows x 2 columns]"
      ]
     },
     "execution_count": 7,
     "metadata": {},
     "output_type": "execute_result"
    }
   ],
   "source": [
    "def query_GDP(end_date:str, start_date='1999-01-01'):\n",
    "    stream = f'GDPDEF'\n",
    "    \n",
    "    stlouisfed_url = 'https://fred.stlouisfed.org/graph/fredgraph.csv'\n",
    "\n",
    "    params = {\n",
    "        'id': stream,\n",
    "        'cosd': start_date,\n",
    "        'coed': end_date,\n",
    "    }\n",
    "\n",
    "    headers = {\n",
    "        'user-agent' : 'Mozilla/5.0 (Windows NT 10.0; Win64; x64) AppleWebKit/537.36 (KHTML, like Gecko) Chrome/81.0.4044.138 Safari/537.36',\n",
    "    }\n",
    "\n",
    "    r = requests.get(stlouisfed_url, params=params, headers=headers)\n",
    "\n",
    "    df = pd.read_csv(io.StringIO(r.content.decode('utf-8'))).sort_values('DATE', ascending=False)\n",
    "\n",
    "    return df\n",
    "\n",
    "query_GDP(end_date)"
   ]
  },
  {
   "cell_type": "markdown",
   "metadata": {},
   "source": [
    "<br>\n",
    "\n",
    "### Alberta Hub Price"
   ]
  },
  {
   "cell_type": "code",
   "execution_count": 9,
   "metadata": {},
   "outputs": [
    {
     "data": {
      "text/plain": [
       "2020-04-01    1.56\n",
       "2020-03-01    1.60\n",
       "2020-02-01    1.79\n",
       "2020-01-01    2.06\n",
       "2019-12-01    2.22\n",
       "              ... \n",
       "1994-05-01    1.80\n",
       "1994-04-01    1.82\n",
       "1994-03-01    2.07\n",
       "1994-02-01    2.04\n",
       "1994-01-01    1.93\n",
       "Name: price, Length: 316, dtype: float64"
      ]
     },
     "execution_count": 9,
     "metadata": {},
     "output_type": "execute_result"
    }
   ],
   "source": [
    "alberta_url = 'https://www.alberta.ca/alberta-natural-gas-reference-price.aspx'\n",
    "\n",
    "df = (pd\n",
    "      .read_html(alberta_url)\n",
    "      [1]\n",
    "      .set_index('Unnamed: 0')\n",
    "     )\n",
    "\n",
    "df = df.unstack().reset_index()\n",
    "df.columns = ['month', 'year', 'price']\n",
    "df.index = pd.to_datetime(df['year'].astype(str) + ' ' + df['month'].astype(str), format='%Y %B')\n",
    "s_price = df.sort_index(ascending=False)['price'].dropna()\n",
    "\n",
    "s_price"
   ]
  },
  {
   "cell_type": "markdown",
   "metadata": {},
   "source": [
    "<br>\n",
    "\n",
    "### Victoria Hub Price"
   ]
  },
  {
   "cell_type": "code",
   "execution_count": 10,
   "metadata": {},
   "outputs": [
    {
     "data": {
      "text/plain": [
       "gas_date\n",
       "2020-06-30    4.59\n",
       "2020-05-31    4.67\n",
       "2020-04-30    4.54\n",
       "2020-03-31    4.86\n",
       "2020-02-29    5.87\n",
       "2020-01-31    6.28\n",
       "2019-12-31    6.42\n",
       "2019-11-30    7.28\n",
       "2019-10-31    8.49\n",
       "2019-09-30    8.28\n",
       "2019-08-31    8.42\n",
       "2019-07-31    8.32\n",
       "2019-06-30    9.41\n",
       "Freq: -1M, Name: price_value, dtype: float64"
      ]
     },
     "execution_count": 10,
     "metadata": {},
     "output_type": "execute_result"
    }
   ],
   "source": [
    "csv_url = 'http://www.nemweb.com.au/REPORTS/CURRENT/VicGas/INT310_V4_PRICE_AND_WITHDRAWALS_1.CSV'\n",
    "\n",
    "df = pd.read_csv(csv_url)\n",
    "s = df['price_value'].groupby(pd.to_datetime(df['gas_date'])).mean()\n",
    "\n",
    "s.resample('m').mean().round(2).sort_index(ascending=False)"
   ]
  }
 ],
 "metadata": {
  "kernelspec": {
   "display_name": "Gas",
   "language": "python",
   "name": "gas"
  },
  "language_info": {
   "codemirror_mode": {
    "name": "ipython",
    "version": 3
   },
   "file_extension": ".py",
   "mimetype": "text/x-python",
   "name": "python",
   "nbconvert_exporter": "python",
   "pygments_lexer": "ipython3",
   "version": "3.8.3"
  }
 },
 "nbformat": 4,
 "nbformat_minor": 4
}
